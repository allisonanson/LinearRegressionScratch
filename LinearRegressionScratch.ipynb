{
 "cells": [
  {
   "cell_type": "markdown",
   "id": "legal-binding",
   "metadata": {},
   "source": [
    "# Linear Regression From Scratch\n",
    "### Allison Anson\n",
    "### 2/15/2021 - ??/??/????"
   ]
  },
  {
   "cell_type": "code",
   "execution_count": null,
   "id": "average-mechanics",
   "metadata": {},
   "outputs": [],
   "source": []
  }
 ],
 "metadata": {
  "kernelspec": {
   "display_name": "Python 3",
   "language": "python",
   "name": "python3"
  },
  "language_info": {
   "codemirror_mode": {
    "name": "ipython",
    "version": 3
   },
   "file_extension": ".py",
   "mimetype": "text/x-python",
   "name": "python",
   "nbconvert_exporter": "python",
   "pygments_lexer": "ipython3",
   "version": "3.8.7"
  }
 },
 "nbformat": 4,
 "nbformat_minor": 5
}
